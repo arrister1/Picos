{
  "nbformat": 4,
  "nbformat_minor": 0,
  "metadata": {
    "colab": {
      "provenance": []
    },
    "kernelspec": {
      "name": "python3",
      "display_name": "Python 3"
    },
    "language_info": {
      "name": "python"
    }
  },
  "cells": [
    {
      "cell_type": "markdown",
      "source": [
        "#Loading Necessary Libraries\n",
        "\n"
      ],
      "metadata": {
        "id": "TRyR6kiFDWTY"
      }
    },
    {
      "cell_type": "code",
      "execution_count": null,
      "metadata": {
        "id": "F6dfUl-fa1NM"
      },
      "outputs": [],
      "source": [
        "import numpy as np\n",
        "import pandas as pd \n",
        "from sklearn.model_selection import train_test_split\n",
        "from sklearn.preprocessing import MinMaxScaler\n",
        "import tensorflow as tf\n",
        "from tensorflow.keras import datasets, layers, models\n",
        "import matplotlib.pyplot as plt\n",
        "%matplotlib inline\n",
        "plt.style.use(\"ggplot\")\n",
        "plt.rcParams['figure.figsize'] = (12, 8)\n",
        "import seaborn as sns\n",
        "sns.set(style='whitegrid', color_codes=True)\n",
        "from sklearn.metrics import confusion_matrix"
      ]
    },
    {
      "cell_type": "markdown",
      "source": [
        "# Preparing the data"
      ],
      "metadata": {
        "id": "gc1GL5-HDiVt"
      }
    },
    {
      "cell_type": "markdown",
      "source": [
        "Import the cleaned dataset"
      ],
      "metadata": {
        "id": "EhWvtRDiDqJG"
      }
    },
    {
      "cell_type": "code",
      "source": [
        "df=pd.read_excel(\"/content/PiCOS_cleaned_data.xlsx\")\n",
        "df.head()"
      ],
      "metadata": {
        "colab": {
          "base_uri": "https://localhost:8080/",
          "height": 334
        },
        "id": "4gjoHpn4dvoR",
        "outputId": "0daa9ed9-d91c-4959-bc01-8e11372a2bf8"
      },
      "execution_count": null,
      "outputs": [
        {
          "output_type": "execute_result",
          "data": {
            "text/plain": [
              "   PCOS (Y/N)  Age (yrs)  Weight (Kg)  Height(Cm)        BMI  Blood Group  \\\n",
              "0           0         28         44.6       152.0  19.300000           15   \n",
              "1           0         36         65.0       161.5  24.921163           15   \n",
              "2           1         33         68.8       165.0  25.270891           11   \n",
              "3           0         37         65.0       148.0  29.674945           13   \n",
              "4           0         25         52.0       161.0  20.060954           11   \n",
              "\n",
              "   Cycle(R/I)  Cycle length(days)  Marraige Status (Yrs)  Pregnant(Y/N)  ...  \\\n",
              "0           2                   5                    7.0              0  ...   \n",
              "1           2                   5                   11.0              1  ...   \n",
              "2           2                   5                   10.0              1  ...   \n",
              "3           2                   5                    4.0              0  ...   \n",
              "4           2                   5                    1.0              1  ...   \n",
              "\n",
              "   Hip(inch)  Waist(inch)  Waist:Hip Ratio  Weight gain(Y/N)  \\\n",
              "0         36           30         0.833333                 0   \n",
              "1         38           32         0.842105                 0   \n",
              "2         40           36         0.900000                 0   \n",
              "3         42           36         0.857143                 0   \n",
              "4         37           30         0.810811                 0   \n",
              "\n",
              "   hair growth(Y/N)  Skin darkening (Y/N)  Hair loss(Y/N)  Pimples(Y/N)  \\\n",
              "0                 0                     0               0             0   \n",
              "1                 0                     0               0             0   \n",
              "2                 0                     0               1             1   \n",
              "3                 0                     0               0             0   \n",
              "4                 0                     0               1             0   \n",
              "\n",
              "   Fast food (Y/N)  Reg.Exercise(Y/N)  \n",
              "0                1                  0  \n",
              "1                0                  0  \n",
              "2                1                  0  \n",
              "3                0                  0  \n",
              "4                0                  0  \n",
              "\n",
              "[5 rows x 21 columns]"
            ],
            "text/html": [
              "\n",
              "  <div id=\"df-733fdeb1-0985-4b8a-a4d7-ff5228b1c78c\">\n",
              "    <div class=\"colab-df-container\">\n",
              "      <div>\n",
              "<style scoped>\n",
              "    .dataframe tbody tr th:only-of-type {\n",
              "        vertical-align: middle;\n",
              "    }\n",
              "\n",
              "    .dataframe tbody tr th {\n",
              "        vertical-align: top;\n",
              "    }\n",
              "\n",
              "    .dataframe thead th {\n",
              "        text-align: right;\n",
              "    }\n",
              "</style>\n",
              "<table border=\"1\" class=\"dataframe\">\n",
              "  <thead>\n",
              "    <tr style=\"text-align: right;\">\n",
              "      <th></th>\n",
              "      <th>PCOS (Y/N)</th>\n",
              "      <th>Age (yrs)</th>\n",
              "      <th>Weight (Kg)</th>\n",
              "      <th>Height(Cm)</th>\n",
              "      <th>BMI</th>\n",
              "      <th>Blood Group</th>\n",
              "      <th>Cycle(R/I)</th>\n",
              "      <th>Cycle length(days)</th>\n",
              "      <th>Marraige Status (Yrs)</th>\n",
              "      <th>Pregnant(Y/N)</th>\n",
              "      <th>...</th>\n",
              "      <th>Hip(inch)</th>\n",
              "      <th>Waist(inch)</th>\n",
              "      <th>Waist:Hip Ratio</th>\n",
              "      <th>Weight gain(Y/N)</th>\n",
              "      <th>hair growth(Y/N)</th>\n",
              "      <th>Skin darkening (Y/N)</th>\n",
              "      <th>Hair loss(Y/N)</th>\n",
              "      <th>Pimples(Y/N)</th>\n",
              "      <th>Fast food (Y/N)</th>\n",
              "      <th>Reg.Exercise(Y/N)</th>\n",
              "    </tr>\n",
              "  </thead>\n",
              "  <tbody>\n",
              "    <tr>\n",
              "      <th>0</th>\n",
              "      <td>0</td>\n",
              "      <td>28</td>\n",
              "      <td>44.6</td>\n",
              "      <td>152.0</td>\n",
              "      <td>19.300000</td>\n",
              "      <td>15</td>\n",
              "      <td>2</td>\n",
              "      <td>5</td>\n",
              "      <td>7.0</td>\n",
              "      <td>0</td>\n",
              "      <td>...</td>\n",
              "      <td>36</td>\n",
              "      <td>30</td>\n",
              "      <td>0.833333</td>\n",
              "      <td>0</td>\n",
              "      <td>0</td>\n",
              "      <td>0</td>\n",
              "      <td>0</td>\n",
              "      <td>0</td>\n",
              "      <td>1</td>\n",
              "      <td>0</td>\n",
              "    </tr>\n",
              "    <tr>\n",
              "      <th>1</th>\n",
              "      <td>0</td>\n",
              "      <td>36</td>\n",
              "      <td>65.0</td>\n",
              "      <td>161.5</td>\n",
              "      <td>24.921163</td>\n",
              "      <td>15</td>\n",
              "      <td>2</td>\n",
              "      <td>5</td>\n",
              "      <td>11.0</td>\n",
              "      <td>1</td>\n",
              "      <td>...</td>\n",
              "      <td>38</td>\n",
              "      <td>32</td>\n",
              "      <td>0.842105</td>\n",
              "      <td>0</td>\n",
              "      <td>0</td>\n",
              "      <td>0</td>\n",
              "      <td>0</td>\n",
              "      <td>0</td>\n",
              "      <td>0</td>\n",
              "      <td>0</td>\n",
              "    </tr>\n",
              "    <tr>\n",
              "      <th>2</th>\n",
              "      <td>1</td>\n",
              "      <td>33</td>\n",
              "      <td>68.8</td>\n",
              "      <td>165.0</td>\n",
              "      <td>25.270891</td>\n",
              "      <td>11</td>\n",
              "      <td>2</td>\n",
              "      <td>5</td>\n",
              "      <td>10.0</td>\n",
              "      <td>1</td>\n",
              "      <td>...</td>\n",
              "      <td>40</td>\n",
              "      <td>36</td>\n",
              "      <td>0.900000</td>\n",
              "      <td>0</td>\n",
              "      <td>0</td>\n",
              "      <td>0</td>\n",
              "      <td>1</td>\n",
              "      <td>1</td>\n",
              "      <td>1</td>\n",
              "      <td>0</td>\n",
              "    </tr>\n",
              "    <tr>\n",
              "      <th>3</th>\n",
              "      <td>0</td>\n",
              "      <td>37</td>\n",
              "      <td>65.0</td>\n",
              "      <td>148.0</td>\n",
              "      <td>29.674945</td>\n",
              "      <td>13</td>\n",
              "      <td>2</td>\n",
              "      <td>5</td>\n",
              "      <td>4.0</td>\n",
              "      <td>0</td>\n",
              "      <td>...</td>\n",
              "      <td>42</td>\n",
              "      <td>36</td>\n",
              "      <td>0.857143</td>\n",
              "      <td>0</td>\n",
              "      <td>0</td>\n",
              "      <td>0</td>\n",
              "      <td>0</td>\n",
              "      <td>0</td>\n",
              "      <td>0</td>\n",
              "      <td>0</td>\n",
              "    </tr>\n",
              "    <tr>\n",
              "      <th>4</th>\n",
              "      <td>0</td>\n",
              "      <td>25</td>\n",
              "      <td>52.0</td>\n",
              "      <td>161.0</td>\n",
              "      <td>20.060954</td>\n",
              "      <td>11</td>\n",
              "      <td>2</td>\n",
              "      <td>5</td>\n",
              "      <td>1.0</td>\n",
              "      <td>1</td>\n",
              "      <td>...</td>\n",
              "      <td>37</td>\n",
              "      <td>30</td>\n",
              "      <td>0.810811</td>\n",
              "      <td>0</td>\n",
              "      <td>0</td>\n",
              "      <td>0</td>\n",
              "      <td>1</td>\n",
              "      <td>0</td>\n",
              "      <td>0</td>\n",
              "      <td>0</td>\n",
              "    </tr>\n",
              "  </tbody>\n",
              "</table>\n",
              "<p>5 rows × 21 columns</p>\n",
              "</div>\n",
              "      <button class=\"colab-df-convert\" onclick=\"convertToInteractive('df-733fdeb1-0985-4b8a-a4d7-ff5228b1c78c')\"\n",
              "              title=\"Convert this dataframe to an interactive table.\"\n",
              "              style=\"display:none;\">\n",
              "        \n",
              "  <svg xmlns=\"http://www.w3.org/2000/svg\" height=\"24px\"viewBox=\"0 0 24 24\"\n",
              "       width=\"24px\">\n",
              "    <path d=\"M0 0h24v24H0V0z\" fill=\"none\"/>\n",
              "    <path d=\"M18.56 5.44l.94 2.06.94-2.06 2.06-.94-2.06-.94-.94-2.06-.94 2.06-2.06.94zm-11 1L8.5 8.5l.94-2.06 2.06-.94-2.06-.94L8.5 2.5l-.94 2.06-2.06.94zm10 10l.94 2.06.94-2.06 2.06-.94-2.06-.94-.94-2.06-.94 2.06-2.06.94z\"/><path d=\"M17.41 7.96l-1.37-1.37c-.4-.4-.92-.59-1.43-.59-.52 0-1.04.2-1.43.59L10.3 9.45l-7.72 7.72c-.78.78-.78 2.05 0 2.83L4 21.41c.39.39.9.59 1.41.59.51 0 1.02-.2 1.41-.59l7.78-7.78 2.81-2.81c.8-.78.8-2.07 0-2.86zM5.41 20L4 18.59l7.72-7.72 1.47 1.35L5.41 20z\"/>\n",
              "  </svg>\n",
              "      </button>\n",
              "      \n",
              "  <style>\n",
              "    .colab-df-container {\n",
              "      display:flex;\n",
              "      flex-wrap:wrap;\n",
              "      gap: 12px;\n",
              "    }\n",
              "\n",
              "    .colab-df-convert {\n",
              "      background-color: #E8F0FE;\n",
              "      border: none;\n",
              "      border-radius: 50%;\n",
              "      cursor: pointer;\n",
              "      display: none;\n",
              "      fill: #1967D2;\n",
              "      height: 32px;\n",
              "      padding: 0 0 0 0;\n",
              "      width: 32px;\n",
              "    }\n",
              "\n",
              "    .colab-df-convert:hover {\n",
              "      background-color: #E2EBFA;\n",
              "      box-shadow: 0px 1px 2px rgba(60, 64, 67, 0.3), 0px 1px 3px 1px rgba(60, 64, 67, 0.15);\n",
              "      fill: #174EA6;\n",
              "    }\n",
              "\n",
              "    [theme=dark] .colab-df-convert {\n",
              "      background-color: #3B4455;\n",
              "      fill: #D2E3FC;\n",
              "    }\n",
              "\n",
              "    [theme=dark] .colab-df-convert:hover {\n",
              "      background-color: #434B5C;\n",
              "      box-shadow: 0px 1px 3px 1px rgba(0, 0, 0, 0.15);\n",
              "      filter: drop-shadow(0px 1px 2px rgba(0, 0, 0, 0.3));\n",
              "      fill: #FFFFFF;\n",
              "    }\n",
              "  </style>\n",
              "\n",
              "      <script>\n",
              "        const buttonEl =\n",
              "          document.querySelector('#df-733fdeb1-0985-4b8a-a4d7-ff5228b1c78c button.colab-df-convert');\n",
              "        buttonEl.style.display =\n",
              "          google.colab.kernel.accessAllowed ? 'block' : 'none';\n",
              "\n",
              "        async function convertToInteractive(key) {\n",
              "          const element = document.querySelector('#df-733fdeb1-0985-4b8a-a4d7-ff5228b1c78c');\n",
              "          const dataTable =\n",
              "            await google.colab.kernel.invokeFunction('convertToInteractive',\n",
              "                                                     [key], {});\n",
              "          if (!dataTable) return;\n",
              "\n",
              "          const docLinkHtml = 'Like what you see? Visit the ' +\n",
              "            '<a target=\"_blank\" href=https://colab.research.google.com/notebooks/data_table.ipynb>data table notebook</a>'\n",
              "            + ' to learn more about interactive tables.';\n",
              "          element.innerHTML = '';\n",
              "          dataTable['output_type'] = 'display_data';\n",
              "          await google.colab.output.renderOutput(dataTable, element);\n",
              "          const docLink = document.createElement('div');\n",
              "          docLink.innerHTML = docLinkHtml;\n",
              "          element.appendChild(docLink);\n",
              "        }\n",
              "      </script>\n",
              "    </div>\n",
              "  </div>\n",
              "  "
            ]
          },
          "metadata": {},
          "execution_count": 4
        }
      ]
    },
    {
      "cell_type": "code",
      "source": [
        "df.info()"
      ],
      "metadata": {
        "colab": {
          "base_uri": "https://localhost:8080/"
        },
        "id": "-0BF6LQvu2eQ",
        "outputId": "d02cf3a7-c21c-4a9c-d64a-5f5c7d67a814"
      },
      "execution_count": null,
      "outputs": [
        {
          "output_type": "stream",
          "name": "stdout",
          "text": [
            "<class 'pandas.core.frame.DataFrame'>\n",
            "RangeIndex: 541 entries, 0 to 540\n",
            "Data columns (total 21 columns):\n",
            " #   Column                 Non-Null Count  Dtype  \n",
            "---  ------                 --------------  -----  \n",
            " 0   PCOS (Y/N)             541 non-null    int64  \n",
            " 1   Age (yrs)              541 non-null    int64  \n",
            " 2   Weight (Kg)            541 non-null    float64\n",
            " 3   Height(Cm)             541 non-null    float64\n",
            " 4   BMI                    541 non-null    float64\n",
            " 5   Blood Group            541 non-null    int64  \n",
            " 6   Cycle(R/I)             541 non-null    int64  \n",
            " 7   Cycle length(days)     541 non-null    int64  \n",
            " 8   Marraige Status (Yrs)  541 non-null    float64\n",
            " 9   Pregnant(Y/N)          541 non-null    int64  \n",
            " 10  No. of aborptions      541 non-null    int64  \n",
            " 11  Hip(inch)              541 non-null    int64  \n",
            " 12  Waist(inch)            541 non-null    int64  \n",
            " 13  Waist:Hip Ratio        541 non-null    float64\n",
            " 14  Weight gain(Y/N)       541 non-null    int64  \n",
            " 15  hair growth(Y/N)       541 non-null    int64  \n",
            " 16  Skin darkening (Y/N)   541 non-null    int64  \n",
            " 17  Hair loss(Y/N)         541 non-null    int64  \n",
            " 18  Pimples(Y/N)           541 non-null    int64  \n",
            " 19  Fast food (Y/N)        541 non-null    int64  \n",
            " 20  Reg.Exercise(Y/N)      541 non-null    int64  \n",
            "dtypes: float64(5), int64(16)\n",
            "memory usage: 88.9 KB\n"
          ]
        }
      ]
    },
    {
      "cell_type": "markdown",
      "source": [
        "Load the cleaned dataset and perform any required preprocessing steps, since the data has been cleaned neatly by dropping the unnecessary columns and removing any nulls, we can proceed to the next step\n",
        "\n",
        "We label the data to fit the neural networks. The X should contains PCOS symptoms so we drop the targeted label (y) and set the axis to 1 (this is to make sure it drops the columns\n",
        "\n",
        "Then, we set the targeted label (y) to whether someone is diagnosed with PCOS or not"
      ],
      "metadata": {
        "id": "F5Yhw51xDwWM"
      }
    },
    {
      "cell_type": "code",
      "source": [
        "X  = df.drop('PCOS (Y/N)', axis = 1)\n",
        "y = df[[\"PCOS (Y/N)\"]]"
      ],
      "metadata": {
        "id": "rAjTrKmYd6aO"
      },
      "execution_count": null,
      "outputs": []
    },
    {
      "cell_type": "code",
      "source": [
        "X.shape"
      ],
      "metadata": {
        "colab": {
          "base_uri": "https://localhost:8080/"
        },
        "id": "CpJh0lFYfBbD",
        "outputId": "8a1c6501-3a8d-4227-a9f8-795c5edd10bd"
      },
      "execution_count": null,
      "outputs": [
        {
          "output_type": "execute_result",
          "data": {
            "text/plain": [
              "(541, 20)"
            ]
          },
          "metadata": {},
          "execution_count": 7
        }
      ]
    },
    {
      "cell_type": "code",
      "source": [
        "y.shape"
      ],
      "metadata": {
        "colab": {
          "base_uri": "https://localhost:8080/"
        },
        "id": "uQUuNUT-fCWj",
        "outputId": "149b471f-06fd-45ab-e2b0-c3f061135a68"
      },
      "execution_count": null,
      "outputs": [
        {
          "output_type": "execute_result",
          "data": {
            "text/plain": [
              "(541, 1)"
            ]
          },
          "metadata": {},
          "execution_count": 8
        }
      ]
    },
    {
      "cell_type": "markdown",
      "source": [
        "After labeling"
      ],
      "metadata": {
        "id": "ZEKEj13pEmOB"
      }
    },
    {
      "cell_type": "code",
      "source": [
        "X_train, X_test, y_train, y_test = train_test_split(X, y, test_size=0.1, random_state=0, stratify= y)"
      ],
      "metadata": {
        "id": "2dDU1HxUf_py"
      },
      "execution_count": null,
      "outputs": []
    },
    {
      "cell_type": "code",
      "source": [
        "X_train, X_dev, y_train, y_dev = train_test_split(X_train, y_train, test_size=0.2, random_state=0, stratify= y_train)\n",
        "X_train.shape"
      ],
      "metadata": {
        "colab": {
          "base_uri": "https://localhost:8080/"
        },
        "id": "wb5guzB4gw9-",
        "outputId": "0450822b-b95b-46ac-8632-435ef60b48fd"
      },
      "execution_count": null,
      "outputs": [
        {
          "output_type": "execute_result",
          "data": {
            "text/plain": [
              "(388, 20)"
            ]
          },
          "metadata": {},
          "execution_count": 10
        }
      ]
    },
    {
      "cell_type": "code",
      "source": [
        "X_test.shape"
      ],
      "metadata": {
        "colab": {
          "base_uri": "https://localhost:8080/"
        },
        "id": "l8qKfTS3hYgp",
        "outputId": "fe1c458e-d204-47e7-a384-f84e8f1e0121"
      },
      "execution_count": null,
      "outputs": [
        {
          "output_type": "execute_result",
          "data": {
            "text/plain": [
              "(55, 20)"
            ]
          },
          "metadata": {},
          "execution_count": 11
        }
      ]
    },
    {
      "cell_type": "code",
      "source": [
        "X_dev.shape"
      ],
      "metadata": {
        "colab": {
          "base_uri": "https://localhost:8080/"
        },
        "id": "sYWo8ArNheS0",
        "outputId": "cd87130a-4ea8-46c4-c1eb-fdb0a5e46d2b"
      },
      "execution_count": null,
      "outputs": [
        {
          "output_type": "execute_result",
          "data": {
            "text/plain": [
              "(98, 20)"
            ]
          },
          "metadata": {},
          "execution_count": 12
        }
      ]
    },
    {
      "cell_type": "code",
      "source": [
        "X_train.shape"
      ],
      "metadata": {
        "colab": {
          "base_uri": "https://localhost:8080/"
        },
        "id": "0GHNGY3R992P",
        "outputId": "c4c73c33-581b-4ff6-e2df-6fc585dac322"
      },
      "execution_count": null,
      "outputs": [
        {
          "output_type": "execute_result",
          "data": {
            "text/plain": [
              "(388, 20)"
            ]
          },
          "metadata": {},
          "execution_count": 13
        }
      ]
    },
    {
      "cell_type": "code",
      "source": [
        "y_train.shape"
      ],
      "metadata": {
        "colab": {
          "base_uri": "https://localhost:8080/"
        },
        "id": "5GVyR36U_FUu",
        "outputId": "fbced558-2bca-472d-fef3-4f1d3e298b94"
      },
      "execution_count": null,
      "outputs": [
        {
          "output_type": "execute_result",
          "data": {
            "text/plain": [
              "(388, 1)"
            ]
          },
          "metadata": {},
          "execution_count": 14
        }
      ]
    },
    {
      "cell_type": "code",
      "source": [
        "y_train.shape"
      ],
      "metadata": {
        "colab": {
          "base_uri": "https://localhost:8080/"
        },
        "id": "kFFm79hBAKeP",
        "outputId": "420ec0b3-e8a1-4856-b839-5437a7001c38"
      },
      "execution_count": null,
      "outputs": [
        {
          "output_type": "execute_result",
          "data": {
            "text/plain": [
              "(388, 1)"
            ]
          },
          "metadata": {},
          "execution_count": 15
        }
      ]
    },
    {
      "cell_type": "code",
      "source": [
        "scaler = MinMaxScaler().fit(X_train)\n",
        "\n",
        "\n",
        "X_train = scaler.transform(X_train)\n",
        "X_train = pd.DataFrame(X_train)\n",
        "\n",
        "X_dev = scaler.transform(X_dev)\n",
        "X_dev = pd.DataFrame(X_dev)\n",
        "\n",
        "X_test = scaler.transform(X_test)\n",
        "X_test = pd.DataFrame(X_test)\n",
        "\n",
        "\n",
        "# Setting Column Names from dataset\n",
        "X_train.columns = X.columns\n",
        "X_test.columns = X.columns\n",
        "X_dev.columns = X.columns"
      ],
      "metadata": {
        "id": "YxRHk_pkhhQm"
      },
      "execution_count": null,
      "outputs": []
    },
    {
      "cell_type": "code",
      "source": [
        "from tensorflow.keras.models import Sequential\n",
        "from tensorflow import keras\n",
        "from tensorflow.keras.layers import Dense\n",
        "from tensorflow.keras.layers import Dropout\n",
        "from tensorflow.keras.optimizers import Adam\n",
        "from tensorflow.keras import regularizers\n",
        "from tensorflow.keras import datasets, layers, models"
      ],
      "metadata": {
        "id": "qgOEqor29Ddq"
      },
      "execution_count": null,
      "outputs": []
    },
    {
      "cell_type": "code",
      "source": [
        "X_train = X_train.to_numpy().reshape(X_train.shape[0], X_train.shape[1], 1)\n",
        "X_test = X_test.to_numpy().reshape(X_test.shape[0], X_test.shape[1], 1)\n",
        "X_dev = X_dev.to_numpy().reshape(X_dev.shape[0], X_dev.shape[1], 1)"
      ],
      "metadata": {
        "id": "jNmndjl39EML"
      },
      "execution_count": null,
      "outputs": []
    },
    {
      "cell_type": "code",
      "source": [
        "from tensorflow.keras.utils import to_categorical\n",
        "y_train = to_categorical(y_train, 2)\n",
        "y_test = to_categorical(y_test, 2)\n",
        "y_dev = to_categorical(y_dev, 2)"
      ],
      "metadata": {
        "id": "IONBKUKQ9Qst"
      },
      "execution_count": null,
      "outputs": []
    },
    {
      "cell_type": "code",
      "source": [
        "# Define the number of input features\n",
        "input_shape = X_train.shape[1:]\n",
        "\n",
        "# Build the Sequential model\n",
        "model = Sequential()\n",
        "model.add(layers.Conv1D(64, (3), activation='relu', input_shape=input_shape))\n",
        "model.add(layers.Conv1D(64, (3), activation='relu'))\n",
        "model.add(layers.Flatten())\n",
        "model.add(Dense(32, activation='relu', kernel_regularizer=regularizers.l2(0.001)))\n",
        "model.add(Dropout(0.2))\n",
        "model.add(Dense(16, activation='relu', kernel_regularizer=regularizers.l2(0.0001)))\n",
        "model.add(Dense(2, activation='sigmoid'))\n",
        "\n",
        "# Compile the model\n",
        "learning_rate = 0.0005\n",
        "model.compile(optimizer=Adam(learning_rate=learning_rate), loss='binary_crossentropy', metrics=['accuracy'])\n",
        "\n",
        "model.build(X_train.shape[1:])\n"
      ],
      "metadata": {
        "id": "m3aHbkkcipfk"
      },
      "execution_count": null,
      "outputs": []
    },
    {
      "cell_type": "code",
      "source": [
        "model.summary()"
      ],
      "metadata": {
        "colab": {
          "base_uri": "https://localhost:8080/"
        },
        "id": "SEBLfrhbBpCL",
        "outputId": "c5dcaa21-910c-4f97-bc5b-82463604354a"
      },
      "execution_count": null,
      "outputs": [
        {
          "output_type": "stream",
          "name": "stdout",
          "text": [
            "Model: \"sequential\"\n",
            "_________________________________________________________________\n",
            " Layer (type)                Output Shape              Param #   \n",
            "=================================================================\n",
            " conv1d (Conv1D)             (None, 18, 64)            256       \n",
            "                                                                 \n",
            " conv1d_1 (Conv1D)           (None, 16, 64)            12352     \n",
            "                                                                 \n",
            " flatten (Flatten)           (None, 1024)              0         \n",
            "                                                                 \n",
            " dense (Dense)               (None, 32)                32800     \n",
            "                                                                 \n",
            " dropout (Dropout)           (None, 32)                0         \n",
            "                                                                 \n",
            " dense_1 (Dense)             (None, 16)                528       \n",
            "                                                                 \n",
            " dense_2 (Dense)             (None, 2)                 34        \n",
            "                                                                 \n",
            "=================================================================\n",
            "Total params: 45,970\n",
            "Trainable params: 45,970\n",
            "Non-trainable params: 0\n",
            "_________________________________________________________________\n"
          ]
        }
      ]
    },
    {
      "cell_type": "code",
      "source": [
        "epochs = 100\n",
        "batch_size = 12\n",
        "\n",
        "model.fit(X_train, y_train, epochs=epochs, batch_size=batch_size, verbose=1,validation_data= (X_dev,y_dev))"
      ],
      "metadata": {
        "colab": {
          "base_uri": "https://localhost:8080/"
        },
        "id": "fvwBizw-kukm",
        "outputId": "8ea6d741-9ebe-4c74-d453-6d36155247d1"
      },
      "execution_count": null,
      "outputs": [
        {
          "output_type": "stream",
          "name": "stdout",
          "text": [
            "Epoch 1/100\n",
            "33/33 [==============================] - 2s 14ms/step - loss: 0.7085 - accuracy: 0.6675 - val_loss: 0.6546 - val_accuracy: 0.6735\n",
            "Epoch 2/100\n",
            "33/33 [==============================] - 0s 6ms/step - loss: 0.5999 - accuracy: 0.6727 - val_loss: 0.5651 - val_accuracy: 0.6735\n",
            "Epoch 3/100\n",
            "33/33 [==============================] - 0s 6ms/step - loss: 0.5265 - accuracy: 0.6727 - val_loss: 0.5334 - val_accuracy: 0.6735\n",
            "Epoch 4/100\n",
            "33/33 [==============================] - 0s 5ms/step - loss: 0.5042 - accuracy: 0.6753 - val_loss: 0.5321 - val_accuracy: 0.6735\n",
            "Epoch 5/100\n",
            "33/33 [==============================] - 0s 6ms/step - loss: 0.4910 - accuracy: 0.7036 - val_loss: 0.5250 - val_accuracy: 0.8367\n",
            "Epoch 6/100\n",
            "33/33 [==============================] - 0s 7ms/step - loss: 0.4787 - accuracy: 0.8093 - val_loss: 0.5232 - val_accuracy: 0.8163\n",
            "Epoch 7/100\n",
            "33/33 [==============================] - 0s 5ms/step - loss: 0.4712 - accuracy: 0.8479 - val_loss: 0.5163 - val_accuracy: 0.8367\n",
            "Epoch 8/100\n",
            "33/33 [==============================] - 0s 5ms/step - loss: 0.4626 - accuracy: 0.8273 - val_loss: 0.5173 - val_accuracy: 0.8469\n",
            "Epoch 9/100\n",
            "33/33 [==============================] - 0s 6ms/step - loss: 0.4461 - accuracy: 0.8299 - val_loss: 0.5069 - val_accuracy: 0.8469\n",
            "Epoch 10/100\n",
            "33/33 [==============================] - 0s 5ms/step - loss: 0.4322 - accuracy: 0.8582 - val_loss: 0.5013 - val_accuracy: 0.8469\n",
            "Epoch 11/100\n",
            "33/33 [==============================] - 0s 5ms/step - loss: 0.4163 - accuracy: 0.8454 - val_loss: 0.5087 - val_accuracy: 0.8367\n",
            "Epoch 12/100\n",
            "33/33 [==============================] - 0s 6ms/step - loss: 0.4178 - accuracy: 0.8325 - val_loss: 0.5024 - val_accuracy: 0.8469\n",
            "Epoch 13/100\n",
            "33/33 [==============================] - 0s 5ms/step - loss: 0.3881 - accuracy: 0.8582 - val_loss: 0.4956 - val_accuracy: 0.8469\n",
            "Epoch 14/100\n",
            "33/33 [==============================] - 0s 7ms/step - loss: 0.3825 - accuracy: 0.8686 - val_loss: 0.4955 - val_accuracy: 0.8367\n",
            "Epoch 15/100\n",
            "33/33 [==============================] - 0s 5ms/step - loss: 0.3896 - accuracy: 0.8479 - val_loss: 0.4915 - val_accuracy: 0.8367\n",
            "Epoch 16/100\n",
            "33/33 [==============================] - 0s 5ms/step - loss: 0.3743 - accuracy: 0.8557 - val_loss: 0.4983 - val_accuracy: 0.8469\n",
            "Epoch 17/100\n",
            "33/33 [==============================] - 0s 6ms/step - loss: 0.3626 - accuracy: 0.8737 - val_loss: 0.4985 - val_accuracy: 0.8367\n",
            "Epoch 18/100\n",
            "33/33 [==============================] - 0s 6ms/step - loss: 0.3773 - accuracy: 0.8582 - val_loss: 0.4926 - val_accuracy: 0.8265\n",
            "Epoch 19/100\n",
            "33/33 [==============================] - 0s 6ms/step - loss: 0.3686 - accuracy: 0.8505 - val_loss: 0.5050 - val_accuracy: 0.8265\n",
            "Epoch 20/100\n",
            "33/33 [==============================] - 0s 5ms/step - loss: 0.3602 - accuracy: 0.8582 - val_loss: 0.4987 - val_accuracy: 0.8163\n",
            "Epoch 21/100\n",
            "33/33 [==============================] - 0s 6ms/step - loss: 0.3624 - accuracy: 0.8557 - val_loss: 0.4933 - val_accuracy: 0.8265\n",
            "Epoch 22/100\n",
            "33/33 [==============================] - 0s 6ms/step - loss: 0.3736 - accuracy: 0.8686 - val_loss: 0.4944 - val_accuracy: 0.8265\n",
            "Epoch 23/100\n",
            "33/33 [==============================] - 0s 5ms/step - loss: 0.3698 - accuracy: 0.8608 - val_loss: 0.4911 - val_accuracy: 0.8163\n",
            "Epoch 24/100\n",
            "33/33 [==============================] - 0s 5ms/step - loss: 0.3679 - accuracy: 0.8737 - val_loss: 0.4920 - val_accuracy: 0.8265\n",
            "Epoch 25/100\n",
            "33/33 [==============================] - 0s 6ms/step - loss: 0.3467 - accuracy: 0.8711 - val_loss: 0.5014 - val_accuracy: 0.8265\n",
            "Epoch 26/100\n",
            "33/33 [==============================] - 0s 5ms/step - loss: 0.3629 - accuracy: 0.8660 - val_loss: 0.4909 - val_accuracy: 0.8265\n",
            "Epoch 27/100\n",
            "33/33 [==============================] - 0s 5ms/step - loss: 0.3495 - accuracy: 0.8660 - val_loss: 0.4975 - val_accuracy: 0.8265\n",
            "Epoch 28/100\n",
            "33/33 [==============================] - 0s 6ms/step - loss: 0.3400 - accuracy: 0.8737 - val_loss: 0.5084 - val_accuracy: 0.8367\n",
            "Epoch 29/100\n",
            "33/33 [==============================] - 0s 5ms/step - loss: 0.3492 - accuracy: 0.8763 - val_loss: 0.4872 - val_accuracy: 0.8265\n",
            "Epoch 30/100\n",
            "33/33 [==============================] - 0s 5ms/step - loss: 0.3480 - accuracy: 0.8711 - val_loss: 0.4977 - val_accuracy: 0.8163\n",
            "Epoch 31/100\n",
            "33/33 [==============================] - 0s 5ms/step - loss: 0.3513 - accuracy: 0.8686 - val_loss: 0.5102 - val_accuracy: 0.8265\n",
            "Epoch 32/100\n",
            "33/33 [==============================] - 0s 5ms/step - loss: 0.3555 - accuracy: 0.8737 - val_loss: 0.4885 - val_accuracy: 0.8265\n",
            "Epoch 33/100\n",
            "33/33 [==============================] - 0s 5ms/step - loss: 0.3334 - accuracy: 0.8789 - val_loss: 0.5010 - val_accuracy: 0.8061\n",
            "Epoch 34/100\n",
            "33/33 [==============================] - 0s 5ms/step - loss: 0.3249 - accuracy: 0.8840 - val_loss: 0.5032 - val_accuracy: 0.8163\n",
            "Epoch 35/100\n",
            "33/33 [==============================] - 0s 5ms/step - loss: 0.3359 - accuracy: 0.8737 - val_loss: 0.4969 - val_accuracy: 0.8163\n",
            "Epoch 36/100\n",
            "33/33 [==============================] - 0s 6ms/step - loss: 0.3535 - accuracy: 0.8763 - val_loss: 0.5056 - val_accuracy: 0.8163\n",
            "Epoch 37/100\n",
            "33/33 [==============================] - 0s 5ms/step - loss: 0.3340 - accuracy: 0.8866 - val_loss: 0.5060 - val_accuracy: 0.8163\n",
            "Epoch 38/100\n",
            "33/33 [==============================] - 0s 6ms/step - loss: 0.3264 - accuracy: 0.8789 - val_loss: 0.5158 - val_accuracy: 0.8367\n",
            "Epoch 39/100\n",
            "33/33 [==============================] - 0s 5ms/step - loss: 0.3138 - accuracy: 0.8840 - val_loss: 0.5196 - val_accuracy: 0.8163\n",
            "Epoch 40/100\n",
            "33/33 [==============================] - 0s 5ms/step - loss: 0.3228 - accuracy: 0.8840 - val_loss: 0.5161 - val_accuracy: 0.8163\n",
            "Epoch 41/100\n",
            "33/33 [==============================] - 0s 5ms/step - loss: 0.3237 - accuracy: 0.8763 - val_loss: 0.5025 - val_accuracy: 0.8163\n",
            "Epoch 42/100\n",
            "33/33 [==============================] - 0s 5ms/step - loss: 0.3224 - accuracy: 0.8814 - val_loss: 0.5180 - val_accuracy: 0.8367\n",
            "Epoch 43/100\n",
            "33/33 [==============================] - 0s 5ms/step - loss: 0.3213 - accuracy: 0.8814 - val_loss: 0.5148 - val_accuracy: 0.8163\n",
            "Epoch 44/100\n",
            "33/33 [==============================] - 0s 6ms/step - loss: 0.3158 - accuracy: 0.8737 - val_loss: 0.5128 - val_accuracy: 0.8061\n",
            "Epoch 45/100\n",
            "33/33 [==============================] - 0s 5ms/step - loss: 0.3202 - accuracy: 0.8892 - val_loss: 0.5140 - val_accuracy: 0.8163\n",
            "Epoch 46/100\n",
            "33/33 [==============================] - 0s 7ms/step - loss: 0.3034 - accuracy: 0.8789 - val_loss: 0.5230 - val_accuracy: 0.8061\n",
            "Epoch 47/100\n",
            "33/33 [==============================] - 0s 5ms/step - loss: 0.2962 - accuracy: 0.8892 - val_loss: 0.5224 - val_accuracy: 0.8163\n",
            "Epoch 48/100\n",
            "33/33 [==============================] - 0s 5ms/step - loss: 0.3062 - accuracy: 0.8918 - val_loss: 0.5214 - val_accuracy: 0.8163\n",
            "Epoch 49/100\n",
            "33/33 [==============================] - 0s 6ms/step - loss: 0.3009 - accuracy: 0.8969 - val_loss: 0.5302 - val_accuracy: 0.8061\n",
            "Epoch 50/100\n",
            "33/33 [==============================] - 0s 10ms/step - loss: 0.3027 - accuracy: 0.8866 - val_loss: 0.5280 - val_accuracy: 0.8061\n",
            "Epoch 51/100\n",
            "33/33 [==============================] - 0s 8ms/step - loss: 0.3053 - accuracy: 0.8840 - val_loss: 0.5117 - val_accuracy: 0.8061\n",
            "Epoch 52/100\n",
            "33/33 [==============================] - 0s 8ms/step - loss: 0.2779 - accuracy: 0.8995 - val_loss: 0.5249 - val_accuracy: 0.8163\n",
            "Epoch 53/100\n",
            "33/33 [==============================] - 0s 8ms/step - loss: 0.2893 - accuracy: 0.8918 - val_loss: 0.5251 - val_accuracy: 0.8163\n",
            "Epoch 54/100\n",
            "33/33 [==============================] - 0s 8ms/step - loss: 0.2807 - accuracy: 0.8918 - val_loss: 0.5323 - val_accuracy: 0.8163\n",
            "Epoch 55/100\n",
            "33/33 [==============================] - 0s 9ms/step - loss: 0.2910 - accuracy: 0.9046 - val_loss: 0.5238 - val_accuracy: 0.8367\n",
            "Epoch 56/100\n",
            "33/33 [==============================] - 0s 10ms/step - loss: 0.2674 - accuracy: 0.9021 - val_loss: 0.5514 - val_accuracy: 0.8265\n",
            "Epoch 57/100\n",
            "33/33 [==============================] - 0s 9ms/step - loss: 0.2870 - accuracy: 0.8840 - val_loss: 0.5188 - val_accuracy: 0.8163\n",
            "Epoch 58/100\n",
            "33/33 [==============================] - 0s 9ms/step - loss: 0.2624 - accuracy: 0.9124 - val_loss: 0.5496 - val_accuracy: 0.8163\n",
            "Epoch 59/100\n",
            "33/33 [==============================] - 0s 7ms/step - loss: 0.2789 - accuracy: 0.8969 - val_loss: 0.5303 - val_accuracy: 0.8163\n",
            "Epoch 60/100\n",
            "33/33 [==============================] - 0s 6ms/step - loss: 0.2679 - accuracy: 0.9072 - val_loss: 0.5381 - val_accuracy: 0.8163\n",
            "Epoch 61/100\n",
            "33/33 [==============================] - 0s 5ms/step - loss: 0.2758 - accuracy: 0.9124 - val_loss: 0.5230 - val_accuracy: 0.8367\n",
            "Epoch 62/100\n",
            "33/33 [==============================] - 0s 6ms/step - loss: 0.2591 - accuracy: 0.9098 - val_loss: 0.5311 - val_accuracy: 0.8367\n",
            "Epoch 63/100\n",
            "33/33 [==============================] - 0s 5ms/step - loss: 0.2567 - accuracy: 0.9253 - val_loss: 0.5402 - val_accuracy: 0.8367\n",
            "Epoch 64/100\n",
            "33/33 [==============================] - 0s 5ms/step - loss: 0.2345 - accuracy: 0.9304 - val_loss: 0.5441 - val_accuracy: 0.8163\n",
            "Epoch 65/100\n",
            "33/33 [==============================] - 0s 5ms/step - loss: 0.2445 - accuracy: 0.9201 - val_loss: 0.5719 - val_accuracy: 0.8163\n",
            "Epoch 66/100\n",
            "33/33 [==============================] - 0s 5ms/step - loss: 0.2519 - accuracy: 0.9124 - val_loss: 0.5451 - val_accuracy: 0.8265\n",
            "Epoch 67/100\n",
            "33/33 [==============================] - 0s 6ms/step - loss: 0.2508 - accuracy: 0.9175 - val_loss: 0.5391 - val_accuracy: 0.8265\n",
            "Epoch 68/100\n",
            "33/33 [==============================] - 0s 5ms/step - loss: 0.2390 - accuracy: 0.9253 - val_loss: 0.5704 - val_accuracy: 0.8265\n",
            "Epoch 69/100\n",
            "33/33 [==============================] - 0s 5ms/step - loss: 0.2473 - accuracy: 0.9227 - val_loss: 0.5462 - val_accuracy: 0.8367\n",
            "Epoch 70/100\n",
            "33/33 [==============================] - 0s 5ms/step - loss: 0.2327 - accuracy: 0.9201 - val_loss: 0.5633 - val_accuracy: 0.8367\n",
            "Epoch 71/100\n",
            "33/33 [==============================] - 0s 6ms/step - loss: 0.2200 - accuracy: 0.9253 - val_loss: 0.5302 - val_accuracy: 0.8367\n",
            "Epoch 72/100\n",
            "33/33 [==============================] - 0s 5ms/step - loss: 0.2384 - accuracy: 0.9278 - val_loss: 0.5660 - val_accuracy: 0.8265\n",
            "Epoch 73/100\n",
            "33/33 [==============================] - 0s 7ms/step - loss: 0.2144 - accuracy: 0.9201 - val_loss: 0.5555 - val_accuracy: 0.8367\n",
            "Epoch 74/100\n",
            "33/33 [==============================] - 0s 6ms/step - loss: 0.2227 - accuracy: 0.9381 - val_loss: 0.5508 - val_accuracy: 0.8367\n",
            "Epoch 75/100\n",
            "33/33 [==============================] - 0s 5ms/step - loss: 0.2021 - accuracy: 0.9459 - val_loss: 0.5588 - val_accuracy: 0.8469\n",
            "Epoch 76/100\n",
            "33/33 [==============================] - 0s 6ms/step - loss: 0.2037 - accuracy: 0.9433 - val_loss: 0.5646 - val_accuracy: 0.8265\n",
            "Epoch 77/100\n",
            "33/33 [==============================] - 0s 5ms/step - loss: 0.2316 - accuracy: 0.9304 - val_loss: 0.5416 - val_accuracy: 0.8367\n",
            "Epoch 78/100\n",
            "33/33 [==============================] - 0s 6ms/step - loss: 0.2147 - accuracy: 0.9278 - val_loss: 0.5446 - val_accuracy: 0.8367\n",
            "Epoch 79/100\n",
            "33/33 [==============================] - 0s 5ms/step - loss: 0.2096 - accuracy: 0.9381 - val_loss: 0.5744 - val_accuracy: 0.8367\n",
            "Epoch 80/100\n",
            "33/33 [==============================] - 0s 5ms/step - loss: 0.2018 - accuracy: 0.9381 - val_loss: 0.5857 - val_accuracy: 0.8367\n",
            "Epoch 81/100\n",
            "33/33 [==============================] - 0s 6ms/step - loss: 0.2049 - accuracy: 0.9356 - val_loss: 0.5710 - val_accuracy: 0.8265\n",
            "Epoch 82/100\n",
            "33/33 [==============================] - 0s 5ms/step - loss: 0.2006 - accuracy: 0.9459 - val_loss: 0.5522 - val_accuracy: 0.8265\n",
            "Epoch 83/100\n",
            "33/33 [==============================] - 0s 7ms/step - loss: 0.1828 - accuracy: 0.9485 - val_loss: 0.6254 - val_accuracy: 0.8265\n",
            "Epoch 84/100\n",
            "33/33 [==============================] - 0s 5ms/step - loss: 0.1929 - accuracy: 0.9356 - val_loss: 0.6168 - val_accuracy: 0.8265\n",
            "Epoch 85/100\n",
            "33/33 [==============================] - 0s 5ms/step - loss: 0.1869 - accuracy: 0.9459 - val_loss: 0.5780 - val_accuracy: 0.8367\n",
            "Epoch 86/100\n",
            "33/33 [==============================] - 0s 5ms/step - loss: 0.1779 - accuracy: 0.9536 - val_loss: 0.5904 - val_accuracy: 0.8265\n",
            "Epoch 87/100\n",
            "33/33 [==============================] - 0s 6ms/step - loss: 0.1794 - accuracy: 0.9381 - val_loss: 0.6217 - val_accuracy: 0.8265\n",
            "Epoch 88/100\n",
            "33/33 [==============================] - 0s 5ms/step - loss: 0.1783 - accuracy: 0.9459 - val_loss: 0.5937 - val_accuracy: 0.8367\n",
            "Epoch 89/100\n",
            "33/33 [==============================] - 0s 6ms/step - loss: 0.1947 - accuracy: 0.9407 - val_loss: 0.6051 - val_accuracy: 0.8163\n",
            "Epoch 90/100\n",
            "33/33 [==============================] - 0s 5ms/step - loss: 0.1646 - accuracy: 0.9562 - val_loss: 0.6515 - val_accuracy: 0.8265\n",
            "Epoch 91/100\n",
            "33/33 [==============================] - 0s 5ms/step - loss: 0.1666 - accuracy: 0.9433 - val_loss: 0.5839 - val_accuracy: 0.8163\n",
            "Epoch 92/100\n",
            "33/33 [==============================] - 0s 6ms/step - loss: 0.1757 - accuracy: 0.9536 - val_loss: 0.6653 - val_accuracy: 0.8265\n",
            "Epoch 93/100\n",
            "33/33 [==============================] - 0s 5ms/step - loss: 0.1723 - accuracy: 0.9459 - val_loss: 0.6789 - val_accuracy: 0.8367\n",
            "Epoch 94/100\n",
            "33/33 [==============================] - 0s 6ms/step - loss: 0.1680 - accuracy: 0.9510 - val_loss: 0.6024 - val_accuracy: 0.8265\n",
            "Epoch 95/100\n",
            "33/33 [==============================] - 0s 5ms/step - loss: 0.1460 - accuracy: 0.9665 - val_loss: 0.6904 - val_accuracy: 0.8265\n",
            "Epoch 96/100\n",
            "33/33 [==============================] - 0s 5ms/step - loss: 0.1756 - accuracy: 0.9407 - val_loss: 0.6275 - val_accuracy: 0.8163\n",
            "Epoch 97/100\n",
            "33/33 [==============================] - 0s 6ms/step - loss: 0.1574 - accuracy: 0.9588 - val_loss: 0.7141 - val_accuracy: 0.8367\n",
            "Epoch 98/100\n",
            "33/33 [==============================] - 0s 5ms/step - loss: 0.1720 - accuracy: 0.9381 - val_loss: 0.6684 - val_accuracy: 0.8061\n",
            "Epoch 99/100\n",
            "33/33 [==============================] - 0s 5ms/step - loss: 0.1620 - accuracy: 0.9485 - val_loss: 0.6740 - val_accuracy: 0.8163\n",
            "Epoch 100/100\n",
            "33/33 [==============================] - 0s 5ms/step - loss: 0.1562 - accuracy: 0.9562 - val_loss: 0.6522 - val_accuracy: 0.8163\n"
          ]
        },
        {
          "output_type": "execute_result",
          "data": {
            "text/plain": [
              "<keras.callbacks.History at 0x7f5bdfa97c10>"
            ]
          },
          "metadata": {},
          "execution_count": 22
        }
      ]
    },
    {
      "cell_type": "code",
      "source": [
        "print(y_train.shape)"
      ],
      "metadata": {
        "id": "0Sr-MsKenBCg",
        "colab": {
          "base_uri": "https://localhost:8080/"
        },
        "outputId": "f51784da-3617-4d4b-8226-1add97cafa31"
      },
      "execution_count": null,
      "outputs": [
        {
          "output_type": "stream",
          "name": "stdout",
          "text": [
            "(388, 2)\n"
          ]
        }
      ]
    },
    {
      "cell_type": "code",
      "source": [
        "pip install h5py"
      ],
      "metadata": {
        "colab": {
          "base_uri": "https://localhost:8080/"
        },
        "id": "-FZlJupUJrOl",
        "outputId": "764956e7-f1f0-4ba6-bdec-77cc7b1d9ab3"
      },
      "execution_count": null,
      "outputs": [
        {
          "output_type": "stream",
          "name": "stdout",
          "text": [
            "Looking in indexes: https://pypi.org/simple, https://us-python.pkg.dev/colab-wheels/public/simple/\n",
            "Requirement already satisfied: h5py in /usr/local/lib/python3.10/dist-packages (3.8.0)\n",
            "Requirement already satisfied: numpy>=1.14.5 in /usr/local/lib/python3.10/dist-packages (from h5py) (1.22.4)\n"
          ]
        }
      ]
    },
    {
      "cell_type": "code",
      "source": [
        "model.save('model.h5')"
      ],
      "metadata": {
        "id": "7hDj1Qf4HUWW"
      },
      "execution_count": null,
      "outputs": []
    },
    {
      "cell_type": "code",
      "source": [
        "loaded_model = tf.keras.models.load_model('model.h5')"
      ],
      "metadata": {
        "id": "P-oz2tlsKB1c"
      },
      "execution_count": null,
      "outputs": []
    }
  ]
}